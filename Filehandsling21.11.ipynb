{
 "cells": [
  {
   "cell_type": "code",
   "execution_count": 34,
   "id": "91151cc9-56e0-4ced-8d80-f5561a5cac61",
   "metadata": {},
   "outputs": [
    {
     "name": "stdout",
     "output_type": "stream",
     "text": [
      "Number of words present in given file:  428\n",
      "Total Amount of Numbers in given file:  374\n",
      "Total Mobile Numbers in given file:  0\n"
     ]
    }
   ],
   "source": [
    "Number=0\n",
    "count=0\n",
    "MobNumber=0\n",
    "Fp=open('test.txt','r')\n",
    "data=Fp.read()\n",
    "for i in data:\n",
    "    words=i.split(\" \")\n",
    "    if str(words).isalpha:        \n",
    "        count = count + len(words)  \n",
    "    if str(words).isnumeric:\n",
    "        Number=Number+1        \n",
    "        if len(words)==10:\n",
    "            MobNumber=MobNumber+1\n",
    "     \n",
    "print(\"Number of words present in given file: \", count)     \n",
    "print(\"Total Amount of Numbers in given file: \", Number) \n",
    "print(\"Total Mobile Numbers in given file: \", MobNumber) \n",
    "\n",
    "\n"
   ]
  },
  {
   "cell_type": "code",
   "execution_count": null,
   "id": "5fd9c8fa-4a8a-4e2f-a1e7-e7c0e3e86d6d",
   "metadata": {},
   "outputs": [],
   "source": []
  },
  {
   "cell_type": "code",
   "execution_count": null,
   "id": "d0430fdd-7510-47e3-b242-edea9856e57a",
   "metadata": {},
   "outputs": [],
   "source": []
  }
 ],
 "metadata": {
  "kernelspec": {
   "display_name": "Python 3 (ipykernel)",
   "language": "python",
   "name": "python3"
  },
  "language_info": {
   "codemirror_mode": {
    "name": "ipython",
    "version": 3
   },
   "file_extension": ".py",
   "mimetype": "text/x-python",
   "name": "python",
   "nbconvert_exporter": "python",
   "pygments_lexer": "ipython3",
   "version": "3.12.4"
  }
 },
 "nbformat": 4,
 "nbformat_minor": 5
}
